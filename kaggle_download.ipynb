{
  "nbformat": 4,
  "nbformat_minor": 0,
  "metadata": {
    "colab": {
      "name": "kaggle_download.ipynb",
      "provenance": [],
      "toc_visible": true,
      "mount_file_id": "1fAVxY8MNBXec3Ip9ZeEbZ-3Bw8axVYcS",
      "authorship_tag": "ABX9TyOVDvR4D/VXJ6vksqq6vCBA",
      "include_colab_link": true
    },
    "kernelspec": {
      "name": "python3",
      "display_name": "Python 3"
    }
  },
  "cells": [
    {
      "cell_type": "markdown",
      "metadata": {
        "id": "view-in-github",
        "colab_type": "text"
      },
      "source": [
        "<a href=\"https://colab.research.google.com/github/amaneygds/public/blob/master/kaggle_download.ipynb\" target=\"_parent\"><img src=\"https://colab.research.google.com/assets/colab-badge.svg\" alt=\"Open In Colab\"/></a>"
      ]
    },
    {
      "cell_type": "markdown",
      "metadata": {
        "id": "egVos61IBkZO",
        "colab_type": "text"
      },
      "source": [
        "#### get kaggle and gdrive"
      ]
    },
    {
      "cell_type": "code",
      "metadata": {
        "id": "BVxNrCAXFR3K",
        "colab_type": "code",
        "colab": {}
      },
      "source": [
        "from google.colab import files\n",
        "files.upload()"
      ],
      "execution_count": null,
      "outputs": []
    },
    {
      "cell_type": "code",
      "metadata": {
        "id": "CCV1DC7D50SK",
        "colab_type": "code",
        "colab": {
          "base_uri": "https://localhost:8080/",
          "height": 212
        },
        "outputId": "12bfe505-4e8b-4583-9326-4f36ae61b9e0"
      },
      "source": [
        "!pip install kaggle"
      ],
      "execution_count": null,
      "outputs": [
        {
          "output_type": "stream",
          "text": [
            "Requirement already satisfied: kaggle in /usr/local/lib/python3.6/dist-packages (1.5.6)\n",
            "Requirement already satisfied: tqdm in /usr/local/lib/python3.6/dist-packages (from kaggle) (4.41.1)\n",
            "Requirement already satisfied: python-dateutil in /usr/local/lib/python3.6/dist-packages (from kaggle) (2.8.1)\n",
            "Requirement already satisfied: python-slugify in /usr/local/lib/python3.6/dist-packages (from kaggle) (4.0.0)\n",
            "Requirement already satisfied: certifi in /usr/local/lib/python3.6/dist-packages (from kaggle) (2020.6.20)\n",
            "Requirement already satisfied: urllib3<1.25,>=1.21.1 in /usr/local/lib/python3.6/dist-packages (from kaggle) (1.24.3)\n",
            "Requirement already satisfied: requests in /usr/local/lib/python3.6/dist-packages (from kaggle) (2.23.0)\n",
            "Requirement already satisfied: six>=1.10 in /usr/local/lib/python3.6/dist-packages (from kaggle) (1.12.0)\n",
            "Requirement already satisfied: text-unidecode>=1.3 in /usr/local/lib/python3.6/dist-packages (from python-slugify->kaggle) (1.3)\n",
            "Requirement already satisfied: chardet<4,>=3.0.2 in /usr/local/lib/python3.6/dist-packages (from requests->kaggle) (3.0.4)\n",
            "Requirement already satisfied: idna<3,>=2.5 in /usr/local/lib/python3.6/dist-packages (from requests->kaggle) (2.9)\n"
          ],
          "name": "stdout"
        }
      ]
    },
    {
      "cell_type": "markdown",
      "metadata": {
        "id": "smxKabF5FdUq",
        "colab_type": "text"
      },
      "source": [
        "##### imports"
      ]
    },
    {
      "cell_type": "code",
      "metadata": {
        "id": "YX7S4wwQ68_f",
        "colab_type": "code",
        "colab": {}
      },
      "source": [
        "import json\n",
        "import zipfile\n",
        "import os"
      ],
      "execution_count": null,
      "outputs": []
    },
    {
      "cell_type": "markdown",
      "metadata": {
        "id": "43ngKY-TByRS",
        "colab_type": "text"
      },
      "source": [
        "##### get api from the downloaded kaggle json \n",
        "      create a json file and save the tokens"
      ]
    },
    {
      "cell_type": "code",
      "metadata": {
        "id": "H7PSJiYk6t-Q",
        "colab_type": "code",
        "colab": {}
      },
      "source": [
        "api_token = {\"username\":\"XXX\",\"key\":\"XXXX\"}"
      ],
      "execution_count": null,
      "outputs": []
    },
    {
      "cell_type": "code",
      "metadata": {
        "id": "sNJMLd4S7Fff",
        "colab_type": "code",
        "colab": {}
      },
      "source": [
        "with open('/content/kaggle.json', 'w') as file:\n",
        "    json.dump(api_token, file)"
      ],
      "execution_count": null,
      "outputs": []
    },
    {
      "cell_type": "code",
      "metadata": {
        "id": "oR9IXjtm8ixP",
        "colab_type": "code",
        "colab": {}
      },
      "source": [
        "## manual for doing it your self not required\n",
        "##!cat > SampleTextFile.txt"
      ],
      "execution_count": null,
      "outputs": []
    },
    {
      "cell_type": "markdown",
      "metadata": {
        "id": "0v3JP3kZ-nX9",
        "colab_type": "text"
      },
      "source": [
        "##### make the dir of kaggle to get the data from the compitition "
      ]
    },
    {
      "cell_type": "code",
      "metadata": {
        "id": "7-KYvDYy95_3",
        "colab_type": "code",
        "colab": {}
      },
      "source": [
        "! mkdir ~/.kaggle\n",
        "!cp \"/content/kaggle.json\" ~/.kaggle/\n",
        "!chmod 600 ~/.kaggle/kaggle.json"
      ],
      "execution_count": null,
      "outputs": []
    },
    {
      "cell_type": "markdown",
      "metadata": {
        "id": "h5fRm-Nr96sK",
        "colab_type": "text"
      },
      "source": [
        "##### change the directory to donwoald the files there"
      ]
    },
    {
      "cell_type": "code",
      "metadata": {
        "id": "RF3XfdBREUiX",
        "colab_type": "code",
        "colab": {}
      },
      "source": [
        "local_path = \"/content/competitions/\""
      ],
      "execution_count": null,
      "outputs": []
    },
    {
      "cell_type": "code",
      "metadata": {
        "id": "4MzT0LR9DJVl",
        "colab_type": "code",
        "colab": {}
      },
      "source": [
        "!mkdir /content/competitions/\n",
        "!cd /content/competitions/"
      ],
      "execution_count": null,
      "outputs": []
    },
    {
      "cell_type": "code",
      "metadata": {
        "id": "KM8myumcAsO1",
        "colab_type": "code",
        "colab": {}
      },
      "source": [
        "os.chdir(local_path)"
      ],
      "execution_count": null,
      "outputs": []
    },
    {
      "cell_type": "code",
      "metadata": {
        "id": "R6GpOksXDWAh",
        "colab_type": "code",
        "colab": {
          "base_uri": "https://localhost:8080/",
          "height": 35
        },
        "outputId": "eda66a03-ee52-4703-c076-d1f16ea199bd"
      },
      "source": [
        "!pwd"
      ],
      "execution_count": null,
      "outputs": [
        {
          "output_type": "stream",
          "text": [
            "/content/competitions\n"
          ],
          "name": "stdout"
        }
      ]
    },
    {
      "cell_type": "markdown",
      "metadata": {
        "id": "q6tDipVRITFu",
        "colab_type": "text"
      },
      "source": [
        "##### copy the api of the required dataset from kaggle"
      ]
    },
    {
      "cell_type": "code",
      "metadata": {
        "id": "tzqG2bAy_NUU",
        "colab_type": "code",
        "colab": {
          "base_uri": "https://localhost:8080/",
          "height": 70
        },
        "outputId": "b8233093-28e6-4bfc-a460-696bbdcad667"
      },
      "source": [
        "!kaggle datasets download -d chokshiroshan/zomato-jaipur-dataset"
      ],
      "execution_count": null,
      "outputs": [
        {
          "output_type": "stream",
          "text": [
            "Downloading zomato-jaipur-dataset.zip to /content/competitions\n",
            "\r  0% 0.00/364k [00:00<?, ?B/s]\n",
            "\r100% 364k/364k [00:00<00:00, 54.2MB/s]\n"
          ],
          "name": "stdout"
        }
      ]
    },
    {
      "cell_type": "markdown",
      "metadata": {
        "id": "OP3aiksGEIwj",
        "colab_type": "text"
      },
      "source": [
        "##### save the downloaded dataset to drive"
      ]
    },
    {
      "cell_type": "code",
      "metadata": {
        "id": "SJUpXG4pEMqE",
        "colab_type": "code",
        "colab": {
          "base_uri": "https://localhost:8080/",
          "height": 52
        },
        "outputId": "a3c853d7-548c-49d2-dc6a-3fef7f216e42"
      },
      "source": [
        "!cp -avr \"/content/competitions/\" \"/content/drive/My Drive/kaggle_comp\""
      ],
      "execution_count": null,
      "outputs": [
        {
          "output_type": "stream",
          "text": [
            "'/content/competitions/' -> '/content/drive/My Drive/kaggle_comp/competitions'\n",
            "'/content/competitions/zomato-jaipur-dataset.zip' -> '/content/drive/My Drive/kaggle_comp/competitions/zomato-jaipur-dataset.zip'\n"
          ],
          "name": "stdout"
        }
      ]
    },
    {
      "cell_type": "code",
      "metadata": {
        "id": "_Itj3i-8HPWA",
        "colab_type": "code",
        "colab": {
          "base_uri": "https://localhost:8080/",
          "height": 35
        },
        "outputId": "c4857933-c816-4870-ec5f-c34f1cc866ad"
      },
      "source": [
        "!ls"
      ],
      "execution_count": null,
      "outputs": [
        {
          "output_type": "stream",
          "text": [
            "zomato-jaipur-dataset.zip\n"
          ],
          "name": "stdout"
        }
      ]
    },
    {
      "cell_type": "markdown",
      "metadata": {
        "id": "YRmZr5fYDhdg",
        "colab_type": "text"
      },
      "source": [
        "##### extract the files from the dir"
      ]
    },
    {
      "cell_type": "code",
      "metadata": {
        "id": "k-w4BRXIAg9i",
        "colab_type": "code",
        "colab": {}
      },
      "source": [
        "for file in os.listdir():\n",
        "    zip_ref = zipfile.ZipFile(file, 'r')\n",
        "    zip_ref.extractall()\n",
        "    zip_ref.close()"
      ],
      "execution_count": null,
      "outputs": []
    },
    {
      "cell_type": "markdown",
      "metadata": {
        "id": "zul7TTqRHeEj",
        "colab_type": "text"
      },
      "source": [
        "##### back to main dir"
      ]
    },
    {
      "cell_type": "code",
      "metadata": {
        "id": "0uVsdGUlHi_t",
        "colab_type": "code",
        "colab": {}
      },
      "source": [
        "os.chdir(\"/content\")"
      ],
      "execution_count": null,
      "outputs": []
    },
    {
      "cell_type": "code",
      "metadata": {
        "id": "1_aZMTw-HlZV",
        "colab_type": "code",
        "colab": {
          "base_uri": "https://localhost:8080/",
          "height": 35
        },
        "outputId": "f100b988-f986-461c-9f15-b4d57bf1730f"
      },
      "source": [
        "!pwd"
      ],
      "execution_count": null,
      "outputs": [
        {
          "output_type": "stream",
          "text": [
            "/content\n"
          ],
          "name": "stdout"
        }
      ]
    },
    {
      "cell_type": "code",
      "metadata": {
        "id": "YRiEjWZbHyhm",
        "colab_type": "code",
        "colab": {
          "base_uri": "https://localhost:8080/",
          "height": 35
        },
        "outputId": "3d5077be-f961-4899-f44b-81cd6f7e3d84"
      },
      "source": [
        "!ls"
      ],
      "execution_count": null,
      "outputs": [
        {
          "output_type": "stream",
          "text": [
            "competitions  drive  kaggle.json  sample_data\n"
          ],
          "name": "stdout"
        }
      ]
    },
    {
      "cell_type": "code",
      "metadata": {
        "id": "N-vdpCVLHzy3",
        "colab_type": "code",
        "colab": {}
      },
      "source": [
        ""
      ],
      "execution_count": null,
      "outputs": []
    }
  ]
}